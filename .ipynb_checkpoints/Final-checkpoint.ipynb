{
 "cells": [
  {
   "cell_type": "markdown",
   "metadata": {},
   "source": [
    "Project 2:\n",
    "\n",
    "Here is the test script to run these simulations. As asked in the project, option1 solves a simple monte carlo barrier option and presents the standard error. Option2 solves a stratified sampling technique with a barrier and the standard error. In order to get the stratified sampling technique to work, I have switched the time steps to 8 instead of 10 as was stated in the problem. "
   ]
  },
  {
   "cell_type": "code",
   "execution_count": 3,
   "metadata": {},
   "outputs": [
    {
     "name": "stdout",
     "output_type": "stream",
     "text": [
      "The call price via Barrier is: 4.487\n",
      "The Standard error via Barrier is: 1.039\n",
      "The call price via Stratified is: 5.092\n",
      "The Standard error via Stratified is: 1.219\n"
     ]
    }
   ],
   "source": [
    "from probo.marketdata import MarketData\n",
    "from probo.payoff import VanillaPayoff, call_payoff, put_payoff\n",
    "from probo.engine import MonteCarloEngine, barrierPricer, StratifiedMonteCarloPricer, AntitheticMonteCarloPricer\n",
    "from probo.facade import OptionFacade\n",
    "\n",
    "## Set up the market data\n",
    "spot = 100\n",
    "rate = 0.06\n",
    "volatility = 0.20\n",
    "dividend = 0.03\n",
    "barrier = 99\n",
    "thedata = MarketData(rate, spot, volatility, dividend, barrier)\n",
    "\n",
    "## Set up the option\n",
    "expiry = 1.0\n",
    "strike = 100\n",
    "thecall = VanillaPayoff(expiry, strike, call_payoff)\n",
    "theput = VanillaPayoff(expiry, strike, put_payoff)\n",
    "\n",
    "## Set up Naive Monte Carlo\n",
    "nreps = 100\n",
    "steps = 8\n",
    "pricer = barrierPricer\n",
    "pricer2 = StratifiedMonteCarloPricer\n",
    "mcengine = MonteCarloEngine(nreps, steps, pricer)\n",
    "mcengine2 = MonteCarloEngine(nreps, steps, pricer2)\n",
    "\n",
    "## Calculate the price\n",
    "option1 = OptionFacade(thecall, mcengine, thedata)\n",
    "price1, se1 = option1.price()\n",
    "print(\"The call price via Barrier is: {0:.3f}\".format(price1))\n",
    "print(\"The Standard error via Barrier is: {0:.3f}\".format(se1))\n",
    "\n",
    "option2 = OptionFacade(thecall, mcengine2, thedata)\n",
    "price2, se2 = option2.price()\n",
    "print(\"The call price via Stratified is: {0:.3f}\".format(price2))\n",
    "print(\"The Standard error via Stratified is: {0:.3f}\".format(se2))"
   ]
  },
  {
   "cell_type": "code",
   "execution_count": null,
   "metadata": {},
   "outputs": [],
   "source": []
  }
 ],
 "metadata": {
  "kernelspec": {
   "display_name": "Python 3",
   "language": "python",
   "name": "python3"
  },
  "language_info": {
   "codemirror_mode": {
    "name": "ipython",
    "version": 3
   },
   "file_extension": ".py",
   "mimetype": "text/x-python",
   "name": "python",
   "nbconvert_exporter": "python",
   "pygments_lexer": "ipython3",
   "version": "3.6.5"
  }
 },
 "nbformat": 4,
 "nbformat_minor": 2
}
